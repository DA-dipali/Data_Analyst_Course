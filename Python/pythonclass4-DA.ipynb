{
 "cells": [
  {
   "cell_type": "markdown",
   "metadata": {},
   "source": [
    "## Print statement in python"
   ]
  },
  {
   "cell_type": "code",
   "execution_count": null,
   "metadata": {},
   "outputs": [],
   "source": [
    "print('Hello world')"
   ]
  },
  {
   "cell_type": "code",
   "execution_count": null,
   "metadata": {},
   "outputs": [],
   "source": [
    "x  = \"python\"\n",
    "\n",
    "print(x)"
   ]
  },
  {
   "cell_type": "code",
   "execution_count": null,
   "metadata": {},
   "outputs": [],
   "source": [
    "name = input('Enter your name:')  #str dtype\n",
    "print(name)\n",
    "\n",
    "age = int(input(\"Please enter your age: \"))\n",
    "print(age)"
   ]
  },
  {
   "cell_type": "code",
   "execution_count": null,
   "metadata": {},
   "outputs": [],
   "source": [
    "print('Hello',name)"
   ]
  },
  {
   "cell_type": "code",
   "execution_count": null,
   "metadata": {},
   "outputs": [],
   "source": [
    "\n",
    "\n",
    "print(\"{1} is {0} years old\".format(name, age))"
   ]
  },
  {
   "cell_type": "code",
   "execution_count": null,
   "metadata": {},
   "outputs": [],
   "source": [
    "## Starndard way of using print statement\n",
    "\n",
    "#format - {}\n",
    "#print('{} is {} years old'.format(name,age)) \n",
    "\n",
    "#print('{0} is {1} years old'.format(name,age)) "
   ]
  },
  {
   "cell_type": "code",
   "execution_count": null,
   "metadata": {},
   "outputs": [],
   "source": [
    "  #\\n - new line\n",
    "\n",
    "str_new = \"this is an example \\n for your understanding\"\n",
    "\n",
    "print(str_new)\n"
   ]
  },
  {
   "cell_type": "code",
   "execution_count": null,
   "metadata": {},
   "outputs": [],
   "source": [
    "#raw string - r\"\"\n",
    "str_new = r\"this is an example \\n for your understanding\"\n",
    "\n",
    "print(str_new)"
   ]
  },
  {
   "cell_type": "markdown",
   "metadata": {},
   "source": [
    "## Identity Operators"
   ]
  },
  {
   "cell_type": "code",
   "execution_count": null,
   "metadata": {},
   "outputs": [],
   "source": [
    "\"i\" == \"Hi\"  #comparitive operator   # = assignment "
   ]
  },
  {
   "cell_type": "code",
   "execution_count": null,
   "metadata": {},
   "outputs": [],
   "source": [
    "1 == 1"
   ]
  },
  {
   "cell_type": "code",
   "execution_count": null,
   "metadata": {},
   "outputs": [],
   "source": [
    "2 == 1"
   ]
  },
  {
   "cell_type": "code",
   "execution_count": null,
   "metadata": {},
   "outputs": [],
   "source": [
    "\"Hello\" == \"hello\""
   ]
  },
  {
   "cell_type": "code",
   "execution_count": null,
   "metadata": {},
   "outputs": [],
   "source": [
    "1 == 0"
   ]
  },
  {
   "cell_type": "code",
   "execution_count": null,
   "metadata": {},
   "outputs": [],
   "source": [
    "1 != 0"
   ]
  },
  {
   "cell_type": "code",
   "execution_count": null,
   "metadata": {},
   "outputs": [],
   "source": [
    "\"hi hello\" != \"hello hi\""
   ]
  },
  {
   "cell_type": "code",
   "execution_count": null,
   "metadata": {},
   "outputs": [],
   "source": [
    "a = 10\n",
    "b = 10\n",
    "\n",
    "print(a==b)\n",
    "print(a is b) # a is equal to b  \n"
   ]
  },
  {
   "cell_type": "code",
   "execution_count": null,
   "metadata": {},
   "outputs": [],
   "source": [
    "#identical operators  # is ,  is not\n",
    "\n",
    "a is b"
   ]
  },
  {
   "cell_type": "code",
   "execution_count": null,
   "metadata": {},
   "outputs": [],
   "source": [
    "a = 'hello'\n",
    "\n",
    "b = 'hello'\n",
    "\n",
    "a is not b"
   ]
  },
  {
   "cell_type": "code",
   "execution_count": null,
   "metadata": {},
   "outputs": [],
   "source": [
    "a = 256\n",
    "\n",
    "#print(\"================\")\n",
    "\n",
    "b = 256\n",
    "\n",
    "\n",
    "print(\"output of a is b:\", a is b)\n",
    "print(\"output of a == b:\", a == b)\n"
   ]
  },
  {
   "cell_type": "code",
   "execution_count": null,
   "metadata": {},
   "outputs": [],
   "source": [
    "\n",
    "# -5 to 256  -  they'll be stored in same id  # python memory location prefixed\n",
    "\n",
    "# > 256 -  python creates individual memomry id for the variables. i.e. if any variable is having value > 257 then it has its\n",
    "#own id\n",
    "\n",
    "a = 257\n",
    "#print(\"a id\",id(a))\n",
    "\n",
    "b = 257\n",
    "#print(\"b id\",id(b))\n",
    "\n",
    "\n",
    "\n",
    "print(\"output of a is b:\", a is not b)   \n",
    "print(\"output of a == b:\", a == b)  "
   ]
  },
  {
   "cell_type": "code",
   "execution_count": null,
   "metadata": {},
   "outputs": [],
   "source": [
    "#Membership operators # in , not in\n",
    "\n",
    "list1 = [1,2,3,\"Hi\",\"hello\"]\n",
    "str1  = \"excelr solution\""
   ]
  },
  {
   "cell_type": "code",
   "execution_count": null,
   "metadata": {},
   "outputs": [],
   "source": [
    "1 in list1"
   ]
  },
  {
   "cell_type": "code",
   "execution_count": null,
   "metadata": {},
   "outputs": [],
   "source": [
    "4 in list1"
   ]
  },
  {
   "cell_type": "code",
   "execution_count": null,
   "metadata": {},
   "outputs": [],
   "source": [
    "\"Hi\" in [1,2,3,\"Hi\",\"hello\"]"
   ]
  },
  {
   "cell_type": "code",
   "execution_count": null,
   "metadata": {},
   "outputs": [],
   "source": [
    "\"Hello\" not in list1"
   ]
  },
  {
   "cell_type": "code",
   "execution_count": null,
   "metadata": {},
   "outputs": [],
   "source": [
    "\"excelr\" in str1"
   ]
  },
  {
   "cell_type": "code",
   "execution_count": null,
   "metadata": {},
   "outputs": [],
   "source": [
    "dict1 = {\"Name\":\"python\",\"Course\":\"selenium\"}"
   ]
  },
  {
   "cell_type": "code",
   "execution_count": null,
   "metadata": {},
   "outputs": [],
   "source": [
    "dict1"
   ]
  },
  {
   "cell_type": "code",
   "execution_count": null,
   "metadata": {},
   "outputs": [],
   "source": [
    "dict1.keys()  #inbuilt fn of dict"
   ]
  },
  {
   "cell_type": "code",
   "execution_count": null,
   "metadata": {},
   "outputs": [],
   "source": [
    "dict1.values()"
   ]
  },
  {
   "cell_type": "code",
   "execution_count": null,
   "metadata": {},
   "outputs": [],
   "source": [
    "\"Name\" in dict1.keys()"
   ]
  },
  {
   "cell_type": "markdown",
   "metadata": {},
   "source": [
    "## Conditional statements"
   ]
  },
  {
   "cell_type": "code",
   "execution_count": null,
   "metadata": {},
   "outputs": [],
   "source": [
    "#if condition #single condition\n",
    "\n",
    "num = 2  \n",
    "\n",
    "if num > 0:\n",
    "    print(\"The {} is positive\".format(num))\n",
    "    "
   ]
  },
  {
   "cell_type": "code",
   "execution_count": null,
   "metadata": {},
   "outputs": [],
   "source": [
    "#if else #two conditions\n",
    "\n",
    "num = 5  \n",
    "\n",
    "if num > 0:\n",
    "    print(\"The {} is positive\".format(num))\n",
    "    \n",
    "else:\n",
    "    print(\"The value is negative. Please enter some +ve number\")\n",
    "    \n",
    "\n",
    "    \n",
    "\n",
    "\n",
    "\n"
   ]
  },
  {
   "cell_type": "code",
   "execution_count": null,
   "metadata": {},
   "outputs": [],
   "source": [
    "#Logical operators  # and ; or\n",
    "\n",
    "b=2\n",
    "\n",
    "if b > 0 and b > 10:\n",
    "    print(\"This {} is positive & satisfied the both conditions in IF statement\".format(b))\n"
   ]
  },
  {
   "cell_type": "code",
   "execution_count": null,
   "metadata": {},
   "outputs": [],
   "source": [
    "num1 = 80\n",
    "num2 = 30\n",
    "num3 = 10\n",
    "\n",
    "if num1<=num2 and num1<=num3:\n",
    "    \n",
    "    print(\"The smaller number is\", num1)\n",
    "    \n",
    "elif num2<=num3 and num2<=num3:\n",
    "    \n",
    "    print(\"The smaller numberis\", num2)\n",
    "else :\n",
    "    \n",
    "    print(\"the smaller number is\", num3)\n"
   ]
  },
  {
   "cell_type": "code",
   "execution_count": null,
   "metadata": {},
   "outputs": [],
   "source": [
    "#if else condition\n",
    "num1= 159\n",
    "num2= 546\n",
    "num3= 375\n",
    "num4= 564\n",
    "\n",
    "if num1 >= num2 and num1 >= num3 and num1 >= num4:\n",
    "    print(num1,\"is bigger\")\n",
    "\n",
    "elif num2 >= num1 and num2 >= num3 and num2 >= num4:\n",
    "    print(num2,\"is bigger\")\n",
    "    \n",
    "elif num3 >= num1 and num3 >= num2 and num3 >= num4:\n",
    "    print(num3,\"is bigger\")\n",
    "    \n",
    "else:\n",
    "    print(num4,\"is bigger\")\n"
   ]
  },
  {
   "cell_type": "code",
   "execution_count": null,
   "metadata": {},
   "outputs": [],
   "source": [
    "#if elif else (>2conditions)\n",
    "\n",
    "# max number of 3 numbers\n",
    "\n",
    "\n",
    "\n",
    "\n",
    "num1= 50\n",
    "num2 = 100\n",
    "num3 = 150\n",
    "\n",
    "\n",
    "# 50 >= 100 and 50 >= 150 - then say 50 is bigger number\n",
    "# 100>50 and 100>150  - then say 100 is bigger number\n",
    "# else : say 150 is bigger number\n",
    "\n",
    "\n",
    "if num1 >= num2 and num1 >= num3:\n",
    "    \n",
    "    print(\"the bigger number is\",num1)\n",
    "\n",
    "    \n",
    "elif num2 >= num1 and num2 >= num3:\n",
    "    \n",
    "    print(\"the bigger number is\",num2) \n",
    "\n",
    "else:\n",
    "    print(\"the bigger number is\",num3)\n",
    "\n",
    "# print (max_num(400,60,1150))\n"
   ]
  },
  {
   "cell_type": "code",
   "execution_count": null,
   "metadata": {},
   "outputs": [],
   "source": [
    "# Nested If \n",
    "num = int(input(\"Enter a number: \"))\n",
    "\n",
    "\n",
    "if num >= 0:\n",
    "    if num == 0:\n",
    "        print(\"Zero\")\n",
    "    else:\n",
    "        print(\"Positive number\")\n",
    "else:\n",
    "    print(\"Negative number\")"
   ]
  },
  {
   "cell_type": "markdown",
   "metadata": {},
   "source": [
    "##  For loop"
   ]
  },
  {
   "cell_type": "code",
   "execution_count": null,
   "metadata": {},
   "outputs": [],
   "source": [
    "snacks = ['pizza','burger','apple']\n",
    "\n",
    "for x in snacks:\n",
    "    print(x)\n"
   ]
  },
  {
   "cell_type": "code",
   "execution_count": null,
   "metadata": {},
   "outputs": [],
   "source": [
    "#range fn\n",
    "\n",
    "for x in range(15,20):\n",
    "    print(x)"
   ]
  },
  {
   "cell_type": "code",
   "execution_count": null,
   "metadata": {},
   "outputs": [],
   "source": [
    "snacks = ['pizza','burger','apple']\n",
    "\n",
    "#print(snacks[x])\n",
    "\n",
    "\n",
    "for x in range(0,len(snacks)): #range(0,3) - 0,1,2\n",
    "    print(snacks[x])\n",
    "\n"
   ]
  },
  {
   "cell_type": "code",
   "execution_count": null,
   "metadata": {},
   "outputs": [],
   "source": [
    "# for Loop\n",
    "# for each item in sequence , last item reached , no - body of loop , yes , exit loop\n",
    "\n",
    "#Ex:1\n",
    "\n",
    "snacks = ['pizza','burger','apple']\n",
    "\n",
    "for x in snacks:\n",
    "    print(\"current snack: \", x)\n",
    "\n",
    "print(\"Good day!\")\n"
   ]
  },
  {
   "cell_type": "code",
   "execution_count": null,
   "metadata": {},
   "outputs": [],
   "source": [
    "#if else condition inside the for loop\n",
    "\n",
    "\n",
    "list_1 = [1,2,3,4,5]\n",
    "\n",
    "\n",
    "for x in list_1:\n",
    "    if x % 2 == 0:\n",
    "        print(x , \"is a even number\")\n",
    "    else:\n",
    "        print(x ,\"is a odd number \")\n",
    "\n"
   ]
  },
  {
   "cell_type": "code",
   "execution_count": null,
   "metadata": {},
   "outputs": [],
   "source": [
    "str1 = \"excelr\"\n",
    "\n",
    "for x in str1:\n",
    "    print(x)\n"
   ]
  },
  {
   "cell_type": "code",
   "execution_count": null,
   "metadata": {},
   "outputs": [],
   "source": [
    "#combinations\n",
    "\n",
    "\n",
    "list1 = [\"google\",\"yahoo\",\"facebook\"]\n",
    "list2 = [\".org\",\".com\",\".in\"]\n",
    "\n",
    "\n",
    "for x in list1:\n",
    "    for y in list2:\n",
    "        print( x + y)\n",
    "\n"
   ]
  },
  {
   "cell_type": "code",
   "execution_count": null,
   "metadata": {},
   "outputs": [],
   "source": [
    "#Nested for loop\n",
    "\n",
    "#combinations  of number\n",
    "\n",
    "list1 = [\"google\",\"yahoo\",\"facebook\"]\n",
    "list2 = [\".org\",\".com\",\".in\"]\n",
    "\n",
    "for i in range(0,len(list1)):#range(0,3)\n",
    "    for j in range(0,3): # range(0,3)\n",
    "        print(i)\n"
   ]
  },
  {
   "cell_type": "code",
   "execution_count": null,
   "metadata": {},
   "outputs": [],
   "source": [
    "# For loop with else:\n",
    "digits = [0, 1, 5]\n",
    "\n",
    "for i in digits:\n",
    "    print(i)\n",
    "else:\n",
    "    print(\"No items left.\")"
   ]
  },
  {
   "cell_type": "markdown",
   "metadata": {},
   "source": [
    "## While loop"
   ]
  },
  {
   "cell_type": "code",
   "execution_count": null,
   "metadata": {},
   "outputs": [],
   "source": [
    "#counter\n",
    "\n",
    "i = 0\n",
    "\n",
    "\n",
    "n = 10  # this will decide the number of loops or iterations\n",
    "\n",
    "while i <= n: #condition\n",
    "    print(i)\n",
    "    \n",
    "#add counter to run the loop"
   ]
  },
  {
   "cell_type": "code",
   "execution_count": null,
   "metadata": {},
   "outputs": [],
   "source": [
    "# initialize sum and counter\n",
    "n = 4\n",
    "sum = 0\n",
    "i = 0\n",
    "\n",
    "while i < n: \n",
    "    sum = sum + i\n",
    "    i = i+1   \n",
    "    print(i)\n",
    "\n",
    "    \n",
    "print(\"The sum is\", sum)\n"
   ]
  },
  {
   "cell_type": "code",
   "execution_count": null,
   "metadata": {},
   "outputs": [],
   "source": [
    "# While loop with else\n",
    "# Example to illustrate\n",
    "# the use of else statement\n",
    "# with the while loop\n",
    "\n",
    "counter = 0\n",
    "\n",
    "while counter < 3: \n",
    "    print(\"Inside loop\")\n",
    "    counter = counter + 1\n",
    "else:\n",
    "    print(\"Inside else\")\n"
   ]
  },
  {
   "cell_type": "code",
   "execution_count": null,
   "metadata": {},
   "outputs": [],
   "source": [
    "#Ex:2\n",
    "\n",
    "#finding the factorial of a value\n",
    "\n",
    "factorial = 1\n",
    "num = int(input(\"number: \")) \n",
    "\n",
    "if num < 0:  \n",
    "    print(\"please enter some int > 0\")\n",
    "\n",
    "elif num == 0:  \n",
    "    print(\"factorial = 1\")\n",
    "else:\n",
    "    for i in range(1,num+1): \n",
    "        factorial = factorial * i\n",
    "print(\"factorial =  \" ,factorial)"
   ]
  },
  {
   "cell_type": "markdown",
   "metadata": {},
   "source": [
    "## Functions"
   ]
  },
  {
   "cell_type": "code",
   "execution_count": null,
   "metadata": {},
   "outputs": [],
   "source": [
    "#defined  -defining to python the function\n",
    "\n",
    "def myfunc():\n",
    "    print('Hello')"
   ]
  },
  {
   "cell_type": "code",
   "execution_count": null,
   "metadata": {},
   "outputs": [],
   "source": [
    "myfunc()"
   ]
  },
  {
   "cell_type": "code",
   "execution_count": null,
   "metadata": {},
   "outputs": [],
   "source": [
    "def myfunc(Name, age = 10): \n",
    "     print(\"Hello\"+\" \"+ str(Name) +\" \"+ \"age is\" + str(age) ) "
   ]
  },
  {
   "cell_type": "code",
   "execution_count": null,
   "metadata": {},
   "outputs": [],
   "source": [
    "def squares(x): \n",
    "    val = x **2  \n",
    "    return val\n",
    "    \n",
    "    \n"
   ]
  },
  {
   "cell_type": "code",
   "execution_count": null,
   "metadata": {},
   "outputs": [],
   "source": [
    "squares(10)"
   ]
  },
  {
   "cell_type": "code",
   "execution_count": null,
   "metadata": {},
   "outputs": [],
   "source": [
    "# your func should take 3 arguments from user where it should add the first two numbers and it should be divided with 3rd number"
   ]
  },
  {
   "cell_type": "code",
   "execution_count": null,
   "metadata": {},
   "outputs": [],
   "source": [
    "result = 0\n",
    "\n",
    "def func(num1, num2, num3):\n",
    "    result = num1 + num2 /num3\n",
    "    return result\n",
    "\n",
    "func(1,2,3)\n",
    "\n",
    "\n",
    "\n"
   ]
  },
  {
   "cell_type": "markdown",
   "metadata": {},
   "source": [
    "## Lambda function"
   ]
  },
  {
   "cell_type": "code",
   "execution_count": null,
   "metadata": {},
   "outputs": [],
   "source": [
    "#lambda arguments : expression\n"
   ]
  },
  {
   "cell_type": "code",
   "execution_count": null,
   "metadata": {},
   "outputs": [],
   "source": [
    "fn = lambda x: x**2 #squares"
   ]
  },
  {
   "cell_type": "code",
   "execution_count": null,
   "metadata": {},
   "outputs": [],
   "source": [
    "fn(4)"
   ]
  },
  {
   "cell_type": "code",
   "execution_count": null,
   "metadata": {},
   "outputs": [],
   "source": [
    "type(fn)"
   ]
  },
  {
   "cell_type": "code",
   "execution_count": null,
   "metadata": {},
   "outputs": [],
   "source": [
    "lst = ['c++','c','python','java','mysql123']\n",
    "lst"
   ]
  },
  {
   "cell_type": "code",
   "execution_count": null,
   "metadata": {},
   "outputs": [],
   "source": [
    "lst.sort(key = lambda x: len(x))   #key = len"
   ]
  },
  {
   "cell_type": "code",
   "execution_count": null,
   "metadata": {},
   "outputs": [],
   "source": [
    "lst"
   ]
  },
  {
   "cell_type": "code",
   "execution_count": null,
   "metadata": {},
   "outputs": [],
   "source": [
    "x = lambda a, b, c : a + b + c\n",
    "\n",
    "\n",
    "print(x(5, 6, 2))"
   ]
  },
  {
   "cell_type": "code",
   "execution_count": null,
   "metadata": {},
   "outputs": [],
   "source": [
    "# map & Filter\n",
    "\n",
    "\n",
    "tup= (5, 7, 22, 97, 54, 62, 77, 23, 73, 61)\n",
    "\n",
    "\n",
    "newtuple = tuple(map(lambda x: x+3 , tup)) #will do mapping of the values\n",
    "print(newtuple)"
   ]
  },
  {
   "cell_type": "code",
   "execution_count": null,
   "metadata": {},
   "outputs": [],
   "source": [
    "#filter the even numbers#List of numbers\n",
    "num = [12, 37, 34, 26, 9, 250, 451, 3, 10] #filter x%2==0  #number is divisible by 2\n",
    "   \n",
    "#Define lambda function to filter even numbers\n",
    "even = list(filter(lambda x: (x % 3 == 0), num))\n",
    "   \n",
    "#Print the even numbers\n",
    "print(even)\n"
   ]
  },
  {
   "cell_type": "code",
   "execution_count": null,
   "metadata": {},
   "outputs": [],
   "source": [
    "#tasks on Defined and Lambda functions\n",
    "\n",
    "# Task-1 : Write a user defined function to calculate the average of 3 values \n",
    "#by taking inputs from users \n",
    "\n",
    "\n",
    "\n",
    "# Task-2 : Write a defined functions to check whether a number is odd or even\n",
    "\n",
    "--------------------------------------------------------------------------------------------------------------------\n",
    "\n",
    "\n",
    "\n",
    "# Task-3: Write a forloop to add two list together\n",
    "#(Hint: Take simillar index elements from both list and add them using \"+\" and append this result to final_list) #use for loop\n",
    "\n",
    "#ex: list1 = [1,2,3], list2= [4,5,6]  ; Expected output => final_list = [5,7,9]\n",
    "\n",
    "\n",
    "\n",
    "\n"
   ]
  },
  {
   "cell_type": "code",
   "execution_count": null,
   "metadata": {},
   "outputs": [],
   "source": []
  }
 ],
 "metadata": {
  "kernelspec": {
   "display_name": "Python 3 (ipykernel)",
   "language": "python",
   "name": "python3"
  },
  "language_info": {
   "codemirror_mode": {
    "name": "ipython",
    "version": 3
   },
   "file_extension": ".py",
   "mimetype": "text/x-python",
   "name": "python",
   "nbconvert_exporter": "python",
   "pygments_lexer": "ipython3",
   "version": "3.9.7"
  }
 },
 "nbformat": 4,
 "nbformat_minor": 4
}
